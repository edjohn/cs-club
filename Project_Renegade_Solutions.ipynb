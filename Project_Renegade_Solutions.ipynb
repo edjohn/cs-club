{
  "cells": [
    {
      "cell_type": "markdown",
      "metadata": {},
      "source": [
        "# One Even One Odd"
      ]
    },
    {
      "cell_type": "code",
      "execution_count": null,
      "metadata": {
        "vscode": {
          "languageId": "cpp"
        }
      },
      "outputs": [],
      "source": [
        "bool oneEvenOneOdd(int N) {\n",
        "    // Take the first and second digits and check if their parity (odd or even) is equal.\n",
        "    // Remember that a number modulo by 2 is 0 if its even and 1 if its odd.\n",
        "    int first = N / 10 % 10;\n",
        "    int second = N % 10;\n",
        "    return first % 2 != second % 2;\n",
        "}"
      ]
    },
    {
      "cell_type": "markdown",
      "metadata": {},
      "source": [
        "# Student Phalanx"
      ]
    },
    {
      "cell_type": "code",
      "execution_count": null,
      "metadata": {
        "vscode": {
          "languageId": "cpp"
        }
      },
      "outputs": [],
      "source": [
        "string studentPhalanx(string s) {\n",
        "    // Compare each character in the string to the one before it, incrementing a counter if they match and setting the counter to 1 if they don't. \n",
        "    // If the counter reaches 7, print 'YES' and return. If we reach the end of the string without the counter reaching 7, print 'NO'.\n",
        "    int n = s.length();\n",
        "    int count = 1;\n",
        "    if (n < 7) {\n",
        "        return \"NO\";\n",
        "    }\n",
        "    for (int i = 1; i < n; i++) {\n",
        "        if (s.at(i) == s.at(i-1)) {\n",
        "            count++;\n",
        "        }\n",
        "        else {\n",
        "            count = 1;\n",
        "        }\n",
        "        if (count == 7) {\n",
        "            return \"YES\";\n",
        "        }\n",
        "    }\n",
        "    return \"NO\";\n",
        "}"
      ]
    },
    {
      "cell_type": "markdown",
      "metadata": {},
      "source": [
        "# Maximum Array Slices"
      ]
    },
    {
      "cell_type": "code",
      "execution_count": null,
      "metadata": {
        "vscode": {
          "languageId": "cpp"
        }
      },
      "outputs": [],
      "source": [
        "int solve(int n, vector<int> v, int length_index, int pieces) {\n",
        "    if (n < 0 || length_index > 2) {\n",
        "        return 0;\n",
        "    }\n",
        "    if (n == 0) {\n",
        "        return pieces;\n",
        "    }\n",
        "    else {\n",
        "        return max(solve(n-v[length_index], v, length_index, pieces+1), solve(n, v, length_index+1, pieces));\n",
        "    }\n",
        "}\n",
        "\n",
        "int maxArraySlices(int n, int a, int b, int c) {\n",
        "    // This is a classic recursion problem! This is actually an unoptimal (very slow) solution but we allowed it to fit the difficulty.\n",
        "   \n",
        "    // Given a ribbon, the recursive step is to cut some length or not cut that length and move to the next length.\n",
        "    // If the ribbon has been cut to 0 length (base case), we have found a solution and we can compare it to another and get the maximum between them.\n",
        "    // However, if the ribbon is cut to below 0 length (second base case) then this is not a valid solution, we have cut too much and we can ignore it.\n",
        "    return solve(n,{a,b,c},0,0);\n",
        "}"
      ]
    },
    {
      "cell_type": "markdown",
      "metadata": {},
      "source": [
        "# Broke Student"
      ]
    },
    {
      "cell_type": "code",
      "execution_count": null,
      "metadata": {
        "vscode": {
          "languageId": "cpp"
        }
      },
      "outputs": [],
      "source": [
        "int brokeStudent(int n, int m, int a, int b) {\n",
        "    // We compare the cost efficiencies of the bus ticket and car rides and default to regular rides if the bus rides aren't more cost efficient.\n",
        "    // If they are more cost efficient, we find the total cost of buying the bus tickets and consider the case of the final remaining ride(s).\n",
        "    // If multiple car rides will allow us to meet our target and are cheaper than a bus ticket,we'll add the cost of those to our total. \n",
        "    // Otherwise, we just buy another bus ticket.\n",
        "    int mRideValue = b / m;\n",
        " \n",
        "    if (mRideValue >= a) {\n",
        "        return a*n;\n",
        "    }\n",
        "    else {\n",
        "        int remainder;\n",
        "        remainder = n % m * a < b ? n % m * a : b;\n",
        "        int total = b * (n / m) + remainder;\n",
        "        return total;\n",
        "    }\n",
        "}"
      ]
    },
    {
      "cell_type": "markdown",
      "metadata": {},
      "source": [
        "# Campus Lights"
      ]
    },
    {
      "cell_type": "code",
      "execution_count": null,
      "metadata": {
        "vscode": {
          "languageId": "cpp"
        }
      },
      "outputs": [],
      "source": [
        "double campusLights(int n, int l, vector<int> a) {\n",
        "    // We can sort the lights from start to end position for a faster (and more intuitive) solution.\n",
        "    // d1 and d2 will be the distance from start to first light and last light to end, respectively.\n",
        "\n",
        "    // We find the distance between each consecutive pair of lights and divide it by 2. \n",
        "    // The division is done because the two lights will both contribute half the light radius to the distance between them.\n",
        "    // We find the maximum difference between these pairs of lights because that light radius will cover every other light radius.\n",
        "\n",
        "    // Lastly, we find the maximum value of d1, d2, and maxDiff because we also need to make sure the first and last lights will light up from start to end.\n",
        "    sort(a.begin(),a.end());\n",
        "    int d1 = a[0];\n",
        "    int d2 = l - a[n-1];\n",
        "    double maxDiff = (double)(a[1]-a[0]) / 2;\n",
        "    for (int i = 1; i < n-1; i++) {\n",
        "        double diff = (double)(a[i+1] - a[i]) / 2;\n",
        "        if (diff > maxDiff) {\n",
        "            maxDiff = diff;\n",
        "        }\n",
        "    }\n",
        "    double res = max(d1, d2);\n",
        "    res = max(res, maxDiff);\n",
        "    return res;\n",
        "}"
      ]
    },
    {
      "cell_type": "markdown",
      "metadata": {},
      "source": [
        "# The Floor Is Lava"
      ]
    },
    {
      "cell_type": "code",
      "execution_count": null,
      "metadata": {
        "vscode": {
          "languageId": "cpp"
        }
      },
      "outputs": [],
      "source": [
        "int dfs(vector<vector<int>>& grid, int row, int col) \n",
        "{\n",
        "    int m = grid.size();\n",
        "    int n = grid[0].size();\n",
        "\n",
        "    //since the current cell has value = 1 minimum area we start with is 1\n",
        "    int area = 1;\n",
        "\n",
        "    //since you have already visited the current cell mark it as already visited\n",
        "    grid[row][col] = 0;\n",
        "\n",
        "    //used for traversing in four directions(up-right-down-left)\n",
        "    vector<int> dir({-1,0,1,0,-1});\n",
        "\n",
        "    //we begin our traversal into four directions from the current cell\n",
        "    for (int i = 0; i < 4; i++) \n",
        "    {\n",
        "        int r = row+dir[i], c = col+dir[i+1];\n",
        "\n",
        "        //make traversals only when next cell lies within the matrix and is unvisited\n",
        "        if (r >= 0 && r < m && c >= 0 && c < n && grid[r][c] == 1) \n",
        "            area += dfs(grid, r, c);\n",
        "    }\n",
        "    //total number of cells with value 1 visited from the current cell\n",
        "    return area;\n",
        "}\n",
        "\n",
        "int largestArea(vector<vector<int>> grid, int m, int n)\n",
        "{\n",
        "    m = grid.size();\n",
        "    n = grid[0].size();\n",
        "\n",
        "    //stores the area of largest consecutive 1's\n",
        "    int maxArea = 0;\n",
        "\n",
        "    //visit each cell of the matrix\n",
        "    for (int i = 0; i < m; i++) \n",
        "        for (int j = 0; j < n; j++) \n",
        "        //begin your traversal from the cell which has value as 1(land)\n",
        "            if (grid[i][j] == 1) \n",
        "            //store the largest area\n",
        "            maxArea = max(maxArea, dfs(grid, i, j));\n",
        "\n",
        "    return maxArea;    \n",
        "}"
      ]
    }
  ],
  "metadata": {
    "kernelspec": {
      "display_name": "Pyolite",
      "language": "python",
      "name": "python"
    },
    "language_info": {
      "codemirror_mode": {
        "name": "python",
        "version": 3
      },
      "file_extension": ".py",
      "mimetype": "text/x-python",
      "name": "python",
      "nbconvert_exporter": "python",
      "pygments_lexer": "ipython3",
      "version": "3.8"
    }
  },
  "nbformat": 4,
  "nbformat_minor": 4
}
